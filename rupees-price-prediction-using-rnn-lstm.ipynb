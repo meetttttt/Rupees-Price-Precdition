{
 "cells": [
  {
   "cell_type": "markdown",
   "id": "9318d5e5",
   "metadata": {
    "papermill": {
     "duration": 0.024482,
     "end_time": "2021-12-10T16:32:51.022940",
     "exception": false,
     "start_time": "2021-12-10T16:32:50.998458",
     "status": "completed"
    },
    "tags": []
   },
   "source": [
    " Loading Library"
   ]
  },
  {
   "cell_type": "code",
   "execution_count": 1,
   "id": "26e31c96",
   "metadata": {
    "execution": {
     "iopub.execute_input": "2021-12-10T16:32:51.082285Z",
     "iopub.status.busy": "2021-12-10T16:32:51.081502Z",
     "iopub.status.idle": "2021-12-10T16:32:51.991236Z",
     "shell.execute_reply": "2021-12-10T16:32:51.990635Z",
     "shell.execute_reply.started": "2021-12-10T16:27:26.987124Z"
    },
    "papermill": {
     "duration": 0.944426,
     "end_time": "2021-12-10T16:32:51.991393",
     "exception": false,
     "start_time": "2021-12-10T16:32:51.046967",
     "status": "completed"
    },
    "tags": []
   },
   "outputs": [],
   "source": [
    "import numpy as np\n",
    "import pandas as pd\n",
    "import seaborn as sns\n",
    "import math\n",
    "import matplotlib.pyplot as plt\n",
    "from sklearn.preprocessing import MinMaxScaler"
   ]
  },
  {
   "cell_type": "markdown",
   "id": "4a0d4131",
   "metadata": {
    "papermill": {
     "duration": 0.022116,
     "end_time": "2021-12-10T16:32:52.035199",
     "exception": false,
     "start_time": "2021-12-10T16:32:52.013083",
     "status": "completed"
    },
    "tags": []
   },
   "source": [
    "Loading Dataset"
   ]
  },
  {
   "cell_type": "code",
   "execution_count": 2,
   "id": "aed7562d",
   "metadata": {
    "execution": {
     "iopub.execute_input": "2021-12-10T16:32:52.083494Z",
     "iopub.status.busy": "2021-12-10T16:32:52.082977Z",
     "iopub.status.idle": "2021-12-10T16:32:52.124862Z",
     "shell.execute_reply": "2021-12-10T16:32:52.125353Z",
     "shell.execute_reply.started": "2021-12-10T16:27:26.994440Z"
    },
    "papermill": {
     "duration": 0.068079,
     "end_time": "2021-12-10T16:32:52.125499",
     "exception": false,
     "start_time": "2021-12-10T16:32:52.057420",
     "status": "completed"
    },
    "tags": []
   },
   "outputs": [
    {
     "data": {
      "text/html": [
       "<div>\n",
       "<style scoped>\n",
       "    .dataframe tbody tr th:only-of-type {\n",
       "        vertical-align: middle;\n",
       "    }\n",
       "\n",
       "    .dataframe tbody tr th {\n",
       "        vertical-align: top;\n",
       "    }\n",
       "\n",
       "    .dataframe thead th {\n",
       "        text-align: right;\n",
       "    }\n",
       "</style>\n",
       "<table border=\"1\" class=\"dataframe\">\n",
       "  <thead>\n",
       "    <tr style=\"text-align: right;\">\n",
       "      <th></th>\n",
       "      <th>Date</th>\n",
       "      <th>Open</th>\n",
       "      <th>High</th>\n",
       "      <th>Low</th>\n",
       "      <th>Close</th>\n",
       "      <th>Adj Close</th>\n",
       "      <th>Volume</th>\n",
       "    </tr>\n",
       "  </thead>\n",
       "  <tbody>\n",
       "    <tr>\n",
       "      <th>0</th>\n",
       "      <td>2003-12-01</td>\n",
       "      <td>45.709000</td>\n",
       "      <td>45.728001</td>\n",
       "      <td>45.615002</td>\n",
       "      <td>45.709999</td>\n",
       "      <td>45.709999</td>\n",
       "      <td>0.0</td>\n",
       "    </tr>\n",
       "    <tr>\n",
       "      <th>1</th>\n",
       "      <td>2003-12-02</td>\n",
       "      <td>45.709000</td>\n",
       "      <td>45.719002</td>\n",
       "      <td>45.560001</td>\n",
       "      <td>45.629002</td>\n",
       "      <td>45.629002</td>\n",
       "      <td>0.0</td>\n",
       "    </tr>\n",
       "    <tr>\n",
       "      <th>2</th>\n",
       "      <td>2003-12-03</td>\n",
       "      <td>45.632000</td>\n",
       "      <td>45.655998</td>\n",
       "      <td>45.474998</td>\n",
       "      <td>45.549999</td>\n",
       "      <td>45.549999</td>\n",
       "      <td>0.0</td>\n",
       "    </tr>\n",
       "    <tr>\n",
       "      <th>3</th>\n",
       "      <td>2003-12-04</td>\n",
       "      <td>45.548000</td>\n",
       "      <td>45.612999</td>\n",
       "      <td>45.519001</td>\n",
       "      <td>45.548000</td>\n",
       "      <td>45.548000</td>\n",
       "      <td>0.0</td>\n",
       "    </tr>\n",
       "    <tr>\n",
       "      <th>4</th>\n",
       "      <td>2003-12-05</td>\n",
       "      <td>45.549999</td>\n",
       "      <td>45.566002</td>\n",
       "      <td>45.449001</td>\n",
       "      <td>45.449001</td>\n",
       "      <td>45.449001</td>\n",
       "      <td>0.0</td>\n",
       "    </tr>\n",
       "  </tbody>\n",
       "</table>\n",
       "</div>"
      ],
      "text/plain": [
       "         Date       Open       High        Low      Close  Adj Close  Volume\n",
       "0  2003-12-01  45.709000  45.728001  45.615002  45.709999  45.709999     0.0\n",
       "1  2003-12-02  45.709000  45.719002  45.560001  45.629002  45.629002     0.0\n",
       "2  2003-12-03  45.632000  45.655998  45.474998  45.549999  45.549999     0.0\n",
       "3  2003-12-04  45.548000  45.612999  45.519001  45.548000  45.548000     0.0\n",
       "4  2003-12-05  45.549999  45.566002  45.449001  45.449001  45.449001     0.0"
      ]
     },
     "execution_count": 2,
     "metadata": {},
     "output_type": "execute_result"
    }
   ],
   "source": [
    "data = pd.read_csv('../input/us-dollar-inr-rupee-dataset20032021/USDINRX.csv')\n",
    "data.head()"
   ]
  },
  {
   "cell_type": "code",
   "execution_count": 3,
   "id": "67627025",
   "metadata": {
    "execution": {
     "iopub.execute_input": "2021-12-10T16:32:52.181111Z",
     "iopub.status.busy": "2021-12-10T16:32:52.180284Z",
     "iopub.status.idle": "2021-12-10T16:32:52.196978Z",
     "shell.execute_reply": "2021-12-10T16:32:52.196499Z",
     "shell.execute_reply.started": "2021-12-10T16:27:27.027481Z"
    },
    "papermill": {
     "duration": 0.046537,
     "end_time": "2021-12-10T16:32:52.197124",
     "exception": false,
     "start_time": "2021-12-10T16:32:52.150587",
     "status": "completed"
    },
    "tags": []
   },
   "outputs": [
    {
     "name": "stdout",
     "output_type": "stream",
     "text": [
      "<class 'pandas.core.frame.DataFrame'>\n",
      "RangeIndex: 4650 entries, 0 to 4649\n",
      "Data columns (total 7 columns):\n",
      " #   Column     Non-Null Count  Dtype  \n",
      "---  ------     --------------  -----  \n",
      " 0   Date       4650 non-null   object \n",
      " 1   Open       4598 non-null   float64\n",
      " 2   High       4598 non-null   float64\n",
      " 3   Low        4598 non-null   float64\n",
      " 4   Close      4598 non-null   float64\n",
      " 5   Adj Close  4598 non-null   float64\n",
      " 6   Volume     4598 non-null   float64\n",
      "dtypes: float64(6), object(1)\n",
      "memory usage: 254.4+ KB\n"
     ]
    }
   ],
   "source": [
    "data.info()"
   ]
  },
  {
   "cell_type": "markdown",
   "id": "819c8a77",
   "metadata": {
    "papermill": {
     "duration": 0.054654,
     "end_time": "2021-12-10T16:32:52.296155",
     "exception": false,
     "start_time": "2021-12-10T16:32:52.241501",
     "status": "completed"
    },
    "tags": []
   },
   "source": [
    " Checking for null Values"
   ]
  },
  {
   "cell_type": "code",
   "execution_count": 4,
   "id": "a1c3f662",
   "metadata": {
    "execution": {
     "iopub.execute_input": "2021-12-10T16:32:52.403294Z",
     "iopub.status.busy": "2021-12-10T16:32:52.399265Z",
     "iopub.status.idle": "2021-12-10T16:32:52.407654Z",
     "shell.execute_reply": "2021-12-10T16:32:52.406732Z",
     "shell.execute_reply.started": "2021-12-10T16:27:27.044419Z"
    },
    "papermill": {
     "duration": 0.063841,
     "end_time": "2021-12-10T16:32:52.407819",
     "exception": false,
     "start_time": "2021-12-10T16:32:52.343978",
     "status": "completed"
    },
    "tags": []
   },
   "outputs": [
    {
     "data": {
      "text/plain": [
       "Date          0\n",
       "Open         52\n",
       "High         52\n",
       "Low          52\n",
       "Close        52\n",
       "Adj Close    52\n",
       "Volume       52\n",
       "dtype: int64"
      ]
     },
     "execution_count": 4,
     "metadata": {},
     "output_type": "execute_result"
    }
   ],
   "source": [
    "data.isnull().sum()"
   ]
  },
  {
   "cell_type": "markdown",
   "id": "f526fa4f",
   "metadata": {
    "papermill": {
     "duration": 0.038742,
     "end_time": "2021-12-10T16:32:52.489345",
     "exception": false,
     "start_time": "2021-12-10T16:32:52.450603",
     "status": "completed"
    },
    "tags": []
   },
   "source": [
    "Drop missing Values or null Values"
   ]
  },
  {
   "cell_type": "code",
   "execution_count": 5,
   "id": "b8c41732",
   "metadata": {
    "execution": {
     "iopub.execute_input": "2021-12-10T16:32:52.574747Z",
     "iopub.status.busy": "2021-12-10T16:32:52.573857Z",
     "iopub.status.idle": "2021-12-10T16:32:52.579660Z",
     "shell.execute_reply": "2021-12-10T16:32:52.580812Z",
     "shell.execute_reply.started": "2021-12-10T16:27:27.056527Z"
    },
    "papermill": {
     "duration": 0.052483,
     "end_time": "2021-12-10T16:32:52.581019",
     "exception": false,
     "start_time": "2021-12-10T16:32:52.528536",
     "status": "completed"
    },
    "tags": []
   },
   "outputs": [],
   "source": [
    "data = data.dropna()"
   ]
  },
  {
   "cell_type": "markdown",
   "id": "72fe7554",
   "metadata": {
    "papermill": {
     "duration": 0.035993,
     "end_time": "2021-12-10T16:32:52.653990",
     "exception": false,
     "start_time": "2021-12-10T16:32:52.617997",
     "status": "completed"
    },
    "tags": []
   },
   "source": [
    "Ensuring the missing values are handled properly"
   ]
  },
  {
   "cell_type": "code",
   "execution_count": 6,
   "id": "60aed3b8",
   "metadata": {
    "execution": {
     "iopub.execute_input": "2021-12-10T16:32:52.734966Z",
     "iopub.status.busy": "2021-12-10T16:32:52.734244Z",
     "iopub.status.idle": "2021-12-10T16:32:52.739553Z",
     "shell.execute_reply": "2021-12-10T16:32:52.740122Z",
     "shell.execute_reply.started": "2021-12-10T16:27:27.066065Z"
    },
    "papermill": {
     "duration": 0.050107,
     "end_time": "2021-12-10T16:32:52.740301",
     "exception": false,
     "start_time": "2021-12-10T16:32:52.690194",
     "status": "completed"
    },
    "tags": []
   },
   "outputs": [
    {
     "data": {
      "text/plain": [
       "Date         0\n",
       "Open         0\n",
       "High         0\n",
       "Low          0\n",
       "Close        0\n",
       "Adj Close    0\n",
       "Volume       0\n",
       "dtype: int64"
      ]
     },
     "execution_count": 6,
     "metadata": {},
     "output_type": "execute_result"
    }
   ],
   "source": [
    "data.isnull().sum()"
   ]
  },
  {
   "cell_type": "markdown",
   "id": "2564f03d",
   "metadata": {
    "papermill": {
     "duration": 0.036465,
     "end_time": "2021-12-10T16:32:52.813319",
     "exception": false,
     "start_time": "2021-12-10T16:32:52.776854",
     "status": "completed"
    },
    "tags": []
   },
   "source": [
    "Changing the time format "
   ]
  },
  {
   "cell_type": "code",
   "execution_count": 7,
   "id": "431a5839",
   "metadata": {
    "execution": {
     "iopub.execute_input": "2021-12-10T16:32:52.884421Z",
     "iopub.status.busy": "2021-12-10T16:32:52.883682Z",
     "iopub.status.idle": "2021-12-10T16:32:52.886640Z",
     "shell.execute_reply": "2021-12-10T16:32:52.886191Z",
     "shell.execute_reply.started": "2021-12-10T16:27:27.078272Z"
    },
    "papermill": {
     "duration": 0.039622,
     "end_time": "2021-12-10T16:32:52.886770",
     "exception": false,
     "start_time": "2021-12-10T16:32:52.847148",
     "status": "completed"
    },
    "tags": []
   },
   "outputs": [],
   "source": [
    "data = data.astype({'Date': 'datetime64[ns]'})"
   ]
  },
  {
   "cell_type": "markdown",
   "id": "152aba2c",
   "metadata": {
    "papermill": {
     "duration": 0.024653,
     "end_time": "2021-12-10T16:32:52.936304",
     "exception": false,
     "start_time": "2021-12-10T16:32:52.911651",
     "status": "completed"
    },
    "tags": []
   },
   "source": [
    "Plotting the Rupees close price"
   ]
  },
  {
   "cell_type": "code",
   "execution_count": 8,
   "id": "ebb50ab3",
   "metadata": {
    "execution": {
     "iopub.execute_input": "2021-12-10T16:32:52.993559Z",
     "iopub.status.busy": "2021-12-10T16:32:52.993038Z",
     "iopub.status.idle": "2021-12-10T16:32:53.292836Z",
     "shell.execute_reply": "2021-12-10T16:32:53.293333Z",
     "shell.execute_reply.started": "2021-12-10T16:27:27.089212Z"
    },
    "papermill": {
     "duration": 0.332319,
     "end_time": "2021-12-10T16:32:53.293489",
     "exception": false,
     "start_time": "2021-12-10T16:32:52.961170",
     "status": "completed"
    },
    "tags": []
   },
   "outputs": [
    {
     "data": {
      "image/png": "[encoded data removed]",
      "text/plain": [
       "<Figure size 1152x576 with 1 Axes>"
      ]
     },
     "metadata": {
      "needs_background": "light"
     },
     "output_type": "display_data"
    }
   ],
   "source": [
    "date = data['Date']\n",
    "plt.figure(figsize=(16,8))\n",
    "plt.title('Close Price History')\n",
    "plt.plot(data['Date'],data['Close'])\n",
    "plt.xlabel('Date')\n",
    "plt.ylabel('Close Price INR (₹)')\n",
    "plt.show()"
   ]
  },
  {
   "cell_type": "code",
   "execution_count": 9,
   "id": "0185fe4d",
   "metadata": {
    "execution": {
     "iopub.execute_input": "2021-12-10T16:32:53.351591Z",
     "iopub.status.busy": "2021-12-10T16:32:53.350747Z",
     "iopub.status.idle": "2021-12-10T16:32:53.356703Z",
     "shell.execute_reply": "2021-12-10T16:32:53.356252Z",
     "shell.execute_reply.started": "2021-12-10T16:27:27.362135Z"
    },
    "papermill": {
     "duration": 0.036915,
     "end_time": "2021-12-10T16:32:53.356825",
     "exception": false,
     "start_time": "2021-12-10T16:32:53.319910",
     "status": "completed"
    },
    "tags": []
   },
   "outputs": [
    {
     "data": {
      "text/plain": [
       "3679"
      ]
     },
     "execution_count": 9,
     "metadata": {},
     "output_type": "execute_result"
    }
   ],
   "source": [
    "df = data.filter(['Close'])\n",
    "dataset = df.values\n",
    "train_data_len = math.ceil(len(dataset)*.8)\n",
    "train_data_len"
   ]
  },
  {
   "cell_type": "markdown",
   "id": "3c134c78",
   "metadata": {
    "papermill": {
     "duration": 0.025946,
     "end_time": "2021-12-10T16:32:53.409993",
     "exception": false,
     "start_time": "2021-12-10T16:32:53.384047",
     "status": "completed"
    },
    "tags": []
   },
   "source": [
    "Transform features by scaling each feature to a given range"
   ]
  },
  {
   "cell_type": "code",
   "execution_count": 10,
   "id": "8816ec27",
   "metadata": {
    "execution": {
     "iopub.execute_input": "2021-12-10T16:32:53.466863Z",
     "iopub.status.busy": "2021-12-10T16:32:53.465840Z",
     "iopub.status.idle": "2021-12-10T16:32:53.472385Z",
     "shell.execute_reply": "2021-12-10T16:32:53.471873Z",
     "shell.execute_reply.started": "2021-12-10T16:27:27.373113Z"
    },
    "papermill": {
     "duration": 0.036849,
     "end_time": "2021-12-10T16:32:53.472516",
     "exception": false,
     "start_time": "2021-12-10T16:32:53.435667",
     "status": "completed"
    },
    "tags": []
   },
   "outputs": [
    {
     "data": {
      "text/plain": [
       "array([[0.17300456],\n",
       "       [0.17090211],\n",
       "       [0.16885141],\n",
       "       ...,\n",
       "       [0.90195204],\n",
       "       [0.90408569],\n",
       "       [0.90317965]])"
      ]
     },
     "execution_count": 10,
     "metadata": {},
     "output_type": "execute_result"
    }
   ],
   "source": [
    "scaler = MinMaxScaler(feature_range=(0,1))\n",
    "scaler_data = scaler.fit_transform(dataset)\n",
    "scaler_data"
   ]
  },
  {
   "cell_type": "code",
   "execution_count": 11,
   "id": "18c183ae",
   "metadata": {
    "execution": {
     "iopub.execute_input": "2021-12-10T16:32:53.531474Z",
     "iopub.status.busy": "2021-12-10T16:32:53.530752Z",
     "iopub.status.idle": "2021-12-10T16:32:53.533838Z",
     "shell.execute_reply": "2021-12-10T16:32:53.534268Z",
     "shell.execute_reply.started": "2021-12-10T16:27:27.384743Z"
    },
    "papermill": {
     "duration": 0.033246,
     "end_time": "2021-12-10T16:32:53.534410",
     "exception": false,
     "start_time": "2021-12-10T16:32:53.501164",
     "status": "completed"
    },
    "tags": []
   },
   "outputs": [],
   "source": [
    "train_data = scaler_data[0:train_data_len , :]"
   ]
  },
  {
   "cell_type": "code",
   "execution_count": 12,
   "id": "539aff7a",
   "metadata": {
    "execution": {
     "iopub.execute_input": "2021-12-10T16:32:53.594800Z",
     "iopub.status.busy": "2021-12-10T16:32:53.593619Z",
     "iopub.status.idle": "2021-12-10T16:32:53.597516Z",
     "shell.execute_reply": "2021-12-10T16:32:53.597113Z",
     "shell.execute_reply.started": "2021-12-10T16:27:27.395505Z"
    },
    "papermill": {
     "duration": 0.036548,
     "end_time": "2021-12-10T16:32:53.597620",
     "exception": false,
     "start_time": "2021-12-10T16:32:53.561072",
     "status": "completed"
    },
    "tags": []
   },
   "outputs": [],
   "source": [
    "x_train = []\n",
    "y_train = []\n",
    "\n",
    "for i in range(60 , len(train_data)):\n",
    "    x_train.append(train_data[i-60:i, 0])\n",
    "    y_train.append(train_data[i, 0])"
   ]
  },
  {
   "cell_type": "code",
   "execution_count": 13,
   "id": "b56e996b",
   "metadata": {
    "execution": {
     "iopub.execute_input": "2021-12-10T16:32:53.650818Z",
     "iopub.status.busy": "2021-12-10T16:32:53.650099Z",
     "iopub.status.idle": "2021-12-10T16:32:53.656472Z",
     "shell.execute_reply": "2021-12-10T16:32:53.656020Z",
     "shell.execute_reply.started": "2021-12-10T16:27:27.407005Z"
    },
    "papermill": {
     "duration": 0.034556,
     "end_time": "2021-12-10T16:32:53.656571",
     "exception": false,
     "start_time": "2021-12-10T16:32:53.622015",
     "status": "completed"
    },
    "tags": []
   },
   "outputs": [],
   "source": [
    "x_train, y_train = np.array(x_train), np.array(y_train)"
   ]
  },
  {
   "cell_type": "code",
   "execution_count": 14,
   "id": "b42f4c6e",
   "metadata": {
    "execution": {
     "iopub.execute_input": "2021-12-10T16:32:53.709814Z",
     "iopub.status.busy": "2021-12-10T16:32:53.709107Z",
     "iopub.status.idle": "2021-12-10T16:32:53.711466Z",
     "shell.execute_reply": "2021-12-10T16:32:53.711067Z",
     "shell.execute_reply.started": "2021-12-10T16:27:27.422588Z"
    },
    "papermill": {
     "duration": 0.030428,
     "end_time": "2021-12-10T16:32:53.711565",
     "exception": false,
     "start_time": "2021-12-10T16:32:53.681137",
     "status": "completed"
    },
    "tags": []
   },
   "outputs": [],
   "source": [
    "x_train = np.reshape(x_train, (x_train.shape[0], x_train.shape[1], 1))"
   ]
  },
  {
   "cell_type": "markdown",
   "id": "b96df1ac",
   "metadata": {
    "papermill": {
     "duration": 0.024601,
     "end_time": "2021-12-10T16:32:53.760526",
     "exception": false,
     "start_time": "2021-12-10T16:32:53.735925",
     "status": "completed"
    },
    "tags": []
   },
   "source": [
    "Loading Tensorflow and keras library"
   ]
  },
  {
   "cell_type": "code",
   "execution_count": 15,
   "id": "cfb12837",
   "metadata": {
    "execution": {
     "iopub.execute_input": "2021-12-10T16:32:53.814370Z",
     "iopub.status.busy": "2021-12-10T16:32:53.813659Z",
     "iopub.status.idle": "2021-12-10T16:32:58.543508Z",
     "shell.execute_reply": "2021-12-10T16:32:58.542965Z",
     "shell.execute_reply.started": "2021-12-10T16:27:27.429595Z"
    },
    "papermill": {
     "duration": 4.758322,
     "end_time": "2021-12-10T16:32:58.543656",
     "exception": false,
     "start_time": "2021-12-10T16:32:53.785334",
     "status": "completed"
    },
    "tags": []
   },
   "outputs": [],
   "source": [
    "from keras.models import Sequential\n",
    "from tensorflow.keras.layers import Dense, LSTM"
   ]
  },
  {
   "cell_type": "markdown",
   "id": "1dd2f467",
   "metadata": {
    "papermill": {
     "duration": 0.02464,
     "end_time": "2021-12-10T16:32:58.594081",
     "exception": false,
     "start_time": "2021-12-10T16:32:58.569441",
     "status": "completed"
    },
    "tags": []
   },
   "source": [
    "Building Model"
   ]
  },
  {
   "cell_type": "code",
   "execution_count": 16,
   "id": "737b5837",
   "metadata": {
    "execution": {
     "iopub.execute_input": "2021-12-10T16:32:58.648596Z",
     "iopub.status.busy": "2021-12-10T16:32:58.647950Z",
     "iopub.status.idle": "2021-12-10T16:33:01.490846Z",
     "shell.execute_reply": "2021-12-10T16:33:01.490011Z",
     "shell.execute_reply.started": "2021-12-10T16:27:27.439345Z"
    },
    "papermill": {
     "duration": 2.87222,
     "end_time": "2021-12-10T16:33:01.491012",
     "exception": false,
     "start_time": "2021-12-10T16:32:58.618792",
     "status": "completed"
    },
    "tags": []
   },
   "outputs": [
    {
     "name": "stderr",
     "output_type": "stream",
     "text": [
      "2021-12-10 16:32:58.721405: I tensorflow/stream_executor/cuda/cuda_gpu_executor.cc:937] successful NUMA node read from SysFS had negative value (-1), but there must be at least one NUMA node, so returning NUMA node zero\n",
      "2021-12-10 16:32:58.818926: I tensorflow/stream_executor/cuda/cuda_gpu_executor.cc:937] successful NUMA node read from SysFS had negative value (-1), but there must be at least one NUMA node, so returning NUMA node zero\n",
      "2021-12-10 16:32:58.819644: I tensorflow/stream_executor/cuda/cuda_gpu_executor.cc:937] successful NUMA node read from SysFS had negative value (-1), but there must be at least one NUMA node, so returning NUMA node zero\n",
      "2021-12-10 16:32:58.820930: I tensorflow/core/platform/cpu_feature_guard.cc:142] This TensorFlow binary is optimized with oneAPI Deep Neural Network Library (oneDNN) to use the following CPU instructions in performance-critical operations:  AVX2 AVX512F FMA\n",
      "To enable them in other operations, rebuild TensorFlow with the appropriate compiler flags.\n",
      "2021-12-10 16:32:58.822047: I tensorflow/stream_executor/cuda/cuda_gpu_executor.cc:937] successful NUMA node read from SysFS had negative value (-1), but there must be at least one NUMA node, so returning NUMA node zero\n",
      "2021-12-10 16:32:58.822945: I tensorflow/stream_executor/cuda/cuda_gpu_executor.cc:937] successful NUMA node read from SysFS had negative value (-1), but there must be at least one NUMA node, so returning NUMA node zero\n",
      "2021-12-10 16:32:58.823819: I tensorflow/stream_executor/cuda/cuda_gpu_executor.cc:937] successful NUMA node read from SysFS had negative value (-1), but there must be at least one NUMA node, so returning NUMA node zero\n",
      "2021-12-10 16:33:00.703440: I tensorflow/stream_executor/cuda/cuda_gpu_executor.cc:937] successful NUMA node read from SysFS had negative value (-1), but there must be at least one NUMA node, so returning NUMA node zero\n",
      "2021-12-10 16:33:00.704277: I tensorflow/stream_executor/cuda/cuda_gpu_executor.cc:937] successful NUMA node read from SysFS had negative value (-1), but there must be at least one NUMA node, so returning NUMA node zero\n",
      "2021-12-10 16:33:00.704910: I tensorflow/stream_executor/cuda/cuda_gpu_executor.cc:937] successful NUMA node read from SysFS had negative value (-1), but there must be at least one NUMA node, so returning NUMA node zero\n",
      "2021-12-10 16:33:00.705506: I tensorflow/core/common_runtime/gpu/gpu_device.cc:1510] Created device /job:localhost/replica:0/task:0/device:GPU:0 with 15403 MB memory:  -> device: 0, name: Tesla P100-PCIE-16GB, pci bus id: 0000:00:04.0, compute capability: 6.0\n"
     ]
    }
   ],
   "source": [
    "model = Sequential()\n",
    "model.add(LSTM(50, return_sequences=True, input_shape=(x_train.shape[1],1)))\n",
    "model.add(LSTM(50))\n",
    "model.add(Dense(1))"
   ]
  },
  {
   "cell_type": "code",
   "execution_count": 17,
   "id": "f311ca44",
   "metadata": {
    "execution": {
     "iopub.execute_input": "2021-12-10T16:33:01.550596Z",
     "iopub.status.busy": "2021-12-10T16:33:01.549830Z",
     "iopub.status.idle": "2021-12-10T16:33:01.561733Z",
     "shell.execute_reply": "2021-12-10T16:33:01.561263Z",
     "shell.execute_reply.started": "2021-12-10T16:27:27.900803Z"
    },
    "papermill": {
     "duration": 0.042623,
     "end_time": "2021-12-10T16:33:01.561846",
     "exception": false,
     "start_time": "2021-12-10T16:33:01.519223",
     "status": "completed"
    },
    "tags": []
   },
   "outputs": [],
   "source": [
    "model.compile(loss='mean_squared_error', optimizer='adam')"
   ]
  },
  {
   "cell_type": "code",
   "execution_count": 18,
   "id": "8e5a929b",
   "metadata": {
    "execution": {
     "iopub.execute_input": "2021-12-10T16:33:01.616991Z",
     "iopub.status.busy": "2021-12-10T16:33:01.616399Z",
     "iopub.status.idle": "2021-12-10T16:36:55.906568Z",
     "shell.execute_reply": "2021-12-10T16:36:55.906103Z",
     "shell.execute_reply.started": "2021-12-10T16:27:27.911386Z"
    },
    "papermill": {
     "duration": 234.318908,
     "end_time": "2021-12-10T16:36:55.906695",
     "exception": false,
     "start_time": "2021-12-10T16:33:01.587787",
     "status": "completed"
    },
    "tags": []
   },
   "outputs": [
    {
     "name": "stderr",
     "output_type": "stream",
     "text": [
      "2021-12-10 16:33:01.659371: I tensorflow/compiler/mlir/mlir_graph_optimization_pass.cc:185] None of the MLIR Optimization Passes are enabled (registered 2)\n"
     ]
    },
    {
     "name": "stdout",
     "output_type": "stream",
     "text": [
      "Epoch 1/10\n"
     ]
    },
    {
     "name": "stderr",
     "output_type": "stream",
     "text": [
      "2021-12-10 16:33:04.700653: I tensorflow/stream_executor/cuda/cuda_dnn.cc:369] Loaded cuDNN version 8005\n"
     ]
    },
    {
     "name": "stdout",
     "output_type": "stream",
     "text": [
      "3619/3619 [==============================] - 27s 6ms/step - loss: 4.8742e-04\n",
      "Epoch 2/10\n",
      "3619/3619 [==============================] - 23s 6ms/step - loss: 2.1579e-04\n",
      "Epoch 3/10\n",
      "3619/3619 [==============================] - 23s 6ms/step - loss: 1.9247e-04\n",
      "Epoch 4/10\n",
      "3619/3619 [==============================] - 23s 6ms/step - loss: 1.2525e-04\n",
      "Epoch 5/10\n",
      "3619/3619 [==============================] - 23s 6ms/step - loss: 1.3726e-04\n",
      "Epoch 6/10\n",
      "3619/3619 [==============================] - 23s 6ms/step - loss: 1.1212e-04\n",
      "Epoch 7/10\n",
      "3619/3619 [==============================] - 23s 6ms/step - loss: 1.1093e-04\n",
      "Epoch 8/10\n",
      "3619/3619 [==============================] - 22s 6ms/step - loss: 1.0765e-04\n",
      "Epoch 9/10\n",
      "3619/3619 [==============================] - 23s 6ms/step - loss: 9.8846e-05\n",
      "Epoch 10/10\n",
      "3619/3619 [==============================] - 24s 7ms/step - loss: 9.9587e-05\n"
     ]
    }
   ],
   "source": [
    "history=model.fit(x_train, y_train, epochs=10, batch_size=1)"
   ]
  },
  {
   "cell_type": "code",
   "execution_count": 19,
   "id": "7c1d9581",
   "metadata": {
    "execution": {
     "iopub.execute_input": "2021-12-10T16:36:58.236970Z",
     "iopub.status.busy": "2021-12-10T16:36:58.235071Z",
     "iopub.status.idle": "2021-12-10T16:36:58.237657Z",
     "shell.execute_reply": "2021-12-10T16:36:58.238107Z",
     "shell.execute_reply.started": "2021-12-10T16:31:28.067059Z"
    },
    "papermill": {
     "duration": 1.155424,
     "end_time": "2021-12-10T16:36:58.238256",
     "exception": false,
     "start_time": "2021-12-10T16:36:57.082832",
     "status": "completed"
    },
    "tags": []
   },
   "outputs": [],
   "source": [
    "test_data = scaler_data[train_data_len - 60:, :]"
   ]
  },
  {
   "cell_type": "code",
   "execution_count": 20,
   "id": "aab8391c",
   "metadata": {
    "execution": {
     "iopub.execute_input": "2021-12-10T16:37:00.524866Z",
     "iopub.status.busy": "2021-12-10T16:37:00.523278Z",
     "iopub.status.idle": "2021-12-10T16:37:00.525461Z",
     "shell.execute_reply": "2021-12-10T16:37:00.525860Z",
     "shell.execute_reply.started": "2021-12-10T16:31:28.072716Z"
    },
    "papermill": {
     "duration": 1.16281,
     "end_time": "2021-12-10T16:37:00.525994",
     "exception": false,
     "start_time": "2021-12-10T16:36:59.363184",
     "status": "completed"
    },
    "tags": []
   },
   "outputs": [],
   "source": [
    "x_test = []\n",
    "y_test = dataset[train_data_len:, :]\n",
    "for i in range(60, len(test_data)):\n",
    "    x_test.append(test_data[i-60:i, 0])"
   ]
  },
  {
   "cell_type": "code",
   "execution_count": 21,
   "id": "b1624611",
   "metadata": {
    "execution": {
     "iopub.execute_input": "2021-12-10T16:37:02.810246Z",
     "iopub.status.busy": "2021-12-10T16:37:02.808960Z",
     "iopub.status.idle": "2021-12-10T16:37:02.812716Z",
     "shell.execute_reply": "2021-12-10T16:37:02.812277Z",
     "shell.execute_reply.started": "2021-12-10T16:31:28.084540Z"
    },
    "papermill": {
     "duration": 1.151629,
     "end_time": "2021-12-10T16:37:02.812837",
     "exception": false,
     "start_time": "2021-12-10T16:37:01.661208",
     "status": "completed"
    },
    "tags": []
   },
   "outputs": [],
   "source": [
    "x_test = np.array(x_test)"
   ]
  },
  {
   "cell_type": "code",
   "execution_count": 22,
   "id": "58d2f513",
   "metadata": {
    "execution": {
     "iopub.execute_input": "2021-12-10T16:37:05.133697Z",
     "iopub.status.busy": "2021-12-10T16:37:05.132705Z",
     "iopub.status.idle": "2021-12-10T16:37:05.134621Z",
     "shell.execute_reply": "2021-12-10T16:37:05.135104Z",
     "shell.execute_reply.started": "2021-12-10T16:31:28.096570Z"
    },
    "papermill": {
     "duration": 1.167429,
     "end_time": "2021-12-10T16:37:05.135268",
     "exception": false,
     "start_time": "2021-12-10T16:37:03.967839",
     "status": "completed"
    },
    "tags": []
   },
   "outputs": [],
   "source": [
    "x_test = np.reshape(x_test, (x_test.shape[0], x_test.shape[1], 1))"
   ]
  },
  {
   "cell_type": "markdown",
   "id": "e820a7e7",
   "metadata": {
    "papermill": {
     "duration": 1.142826,
     "end_time": "2021-12-10T16:37:07.759178",
     "exception": false,
     "start_time": "2021-12-10T16:37:06.616352",
     "status": "completed"
    },
    "tags": []
   },
   "source": [
    "Making Prediction"
   ]
  },
  {
   "cell_type": "code",
   "execution_count": 23,
   "id": "093e419b",
   "metadata": {
    "execution": {
     "iopub.execute_input": "2021-12-10T16:37:10.061545Z",
     "iopub.status.busy": "2021-12-10T16:37:10.060684Z",
     "iopub.status.idle": "2021-12-10T16:37:10.739226Z",
     "shell.execute_reply": "2021-12-10T16:37:10.739659Z",
     "shell.execute_reply.started": "2021-12-10T16:31:28.107278Z"
    },
    "papermill": {
     "duration": 1.829184,
     "end_time": "2021-12-10T16:37:10.739822",
     "exception": false,
     "start_time": "2021-12-10T16:37:08.910638",
     "status": "completed"
    },
    "tags": []
   },
   "outputs": [],
   "source": [
    "pred = model.predict(x_test)\n",
    "pred = scaler.inverse_transform(pred)"
   ]
  },
  {
   "cell_type": "markdown",
   "id": "4716729a",
   "metadata": {
    "papermill": {
     "duration": 1.156643,
     "end_time": "2021-12-10T16:37:13.058882",
     "exception": false,
     "start_time": "2021-12-10T16:37:11.902239",
     "status": "completed"
    },
    "tags": []
   },
   "source": [
    "Plotting the prediction"
   ]
  },
  {
   "cell_type": "code",
   "execution_count": 24,
   "id": "ec692329",
   "metadata": {
    "execution": {
     "iopub.execute_input": "2021-12-10T16:37:15.975233Z",
     "iopub.status.busy": "2021-12-10T16:37:15.972040Z",
     "iopub.status.idle": "2021-12-10T16:37:16.310917Z",
     "shell.execute_reply": "2021-12-10T16:37:16.311359Z",
     "shell.execute_reply.started": "2021-12-10T16:32:24.225109Z"
    },
    "papermill": {
     "duration": 1.814981,
     "end_time": "2021-12-10T16:37:16.311517",
     "exception": false,
     "start_time": "2021-12-10T16:37:14.496536",
     "status": "completed"
    },
    "tags": []
   },
   "outputs": [
    {
     "name": "stderr",
     "output_type": "stream",
     "text": [
      "/opt/conda/lib/python3.7/site-packages/ipykernel_launcher.py:3: SettingWithCopyWarning: \n",
      "A value is trying to be set on a copy of a slice from a DataFrame.\n",
      "Try using .loc[row_indexer,col_indexer] = value instead\n",
      "\n",
      "See the caveats in the documentation: https://pandas.pydata.org/pandas-docs/stable/user_guide/indexing.html#returning-a-view-versus-a-copy\n",
      "  This is separate from the ipykernel package so we can avoid doing imports until\n"
     ]
    },
    {
     "data": {
      "image/png": "[encoded data removed]",
      "text/plain": [
       "<Figure size 1152x576 with 1 Axes>"
      ]
     },
     "metadata": {
      "needs_background": "light"
     },
     "output_type": "display_data"
    }
   ],
   "source": [
    "train = data[:train_data_len]\n",
    "valid = data[train_data_len:]\n",
    "valid['Predictions'] = pred\n",
    "plt.figure(figsize=(16,8))\n",
    "plt.xlabel('Date')\n",
    "plt.ylabel('Close Price INR (₹)')\n",
    "plt.plot(train['Date'],train['Close'])\n",
    "plt.plot(valid['Date'],valid[['Close','Predictions']])\n",
    "plt.legend(['Train','Valid','Predictions'], loc='lower right')\n",
    "plt.show()"
   ]
  },
  {
   "cell_type": "code",
   "execution_count": 25,
   "id": "3dab528e",
   "metadata": {
    "execution": {
     "iopub.execute_input": "2021-12-10T16:37:18.882733Z",
     "iopub.status.busy": "2021-12-10T16:37:18.881762Z",
     "iopub.status.idle": "2021-12-10T16:37:19.153265Z",
     "shell.execute_reply": "2021-12-10T16:37:19.153744Z",
     "shell.execute_reply.started": "2021-12-10T16:32:27.828318Z"
    },
    "papermill": {
     "duration": 1.436295,
     "end_time": "2021-12-10T16:37:19.153898",
     "exception": false,
     "start_time": "2021-12-10T16:37:17.717603",
     "status": "completed"
    },
    "tags": []
   },
   "outputs": [
    {
     "data": {
      "image/png": "[encoded data removed]",
      "text/plain": [
       "<Figure size 1152x576 with 1 Axes>"
      ]
     },
     "metadata": {
      "needs_background": "light"
     },
     "output_type": "display_data"
    }
   ],
   "source": [
    "plt.figure(figsize=(16,8))\n",
    "plt.plot(valid['Date'],valid[['Close','Predictions']])\n",
    "plt.legend(['Valid','Predictions'], loc='lower right')\n",
    "plt.xlabel('Date')\n",
    "plt.ylabel('Close Price INR (₹)')\n",
    "plt.show()"
   ]
  }
 ],
 "metadata": {
  "kernelspec": {
   "display_name": "Python 3",
   "language": "python",
   "name": "python3"
  },
  "language_info": {
   "codemirror_mode": {
    "name": "ipython",
    "version": 3
   },
   "file_extension": ".py",
   "mimetype": "text/x-python",
   "name": "python",
   "nbconvert_exporter": "python",
   "pygments_lexer": "ipython3",
   "version": "3.7.12"
  },
  "papermill": {
   "default_parameters": {},
   "duration": 280.861952,
   "end_time": "2021-12-10T16:37:23.460232",
   "environment_variables": {},
   "exception": null,
   "input_path": "__notebook__.ipynb",
   "output_path": "__notebook__.ipynb",
   "parameters": {},
   "start_time": "2021-12-10T16:32:42.598280",
   "version": "2.3.3"
  }
 },
 "nbformat": 4,
 "nbformat_minor": 5
}
